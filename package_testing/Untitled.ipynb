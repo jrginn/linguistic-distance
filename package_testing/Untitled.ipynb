{
 "cells": [
  {
   "cell_type": "code",
   "execution_count": 1,
   "metadata": {},
   "outputs": [],
   "source": [
    "import pandas as pd"
   ]
  },
  {
   "cell_type": "code",
   "execution_count": 2,
   "metadata": {},
   "outputs": [],
   "source": [
    "import sys\n",
    "sys.path.append(\"../\")"
   ]
  },
  {
   "cell_type": "code",
   "execution_count": 3,
   "metadata": {},
   "outputs": [],
   "source": [
    "from lcp_python_libs.Parser import Parser\n",
    "from lcp_python_libs.SheetMaker import SheetMaker\n",
    "from lcp_python_libs.Util import Util\n",
    "from lcp_python_libs.LDistance import LDistance\n",
    "from lcp_python_libs.Calculator import Calculator"
   ]
  },
  {
   "cell_type": "code",
   "execution_count": 4,
   "metadata": {},
   "outputs": [],
   "source": [
    "# Global variables for using ldistance and parsing methods\n",
    "_p = Parser()\n",
    "_u = Util()\n",
    "_s = SheetMaker()\n",
    "_ld = LDistance()\n",
    "_c = Calculator()"
   ]
  },
  {
   "cell_type": "code",
   "execution_count": 5,
   "metadata": {},
   "outputs": [],
   "source": [
    "en_str = \"\"\"\n",
    "The Conference of the Parties to the United Nations Convention against Transnational Organized Crime : Decides , with effect from its third session , to elect at the end of its session its bureau for the subsequent session and to encourage it to play an active role in the preparation of the regular session as well as in possible intersessional meetings Also decides to amend rule 22 of the rules of procedure accordingly , with effect from its third session , to read as follows Rule 22 Election At the end of each session , a President , eight Vice-Presidents and a Rapporteur shall be elected from among the representatives of the States Parties The President , the Vice-Presidents and the Rapporteur so elected shall serve as the officers of the subsequent session and guide the secretariat in the preparations for that session and for any intersessional meetings that may be held In electing the officers of the session , each of the five regional groups shall be represented by two officers , one of whom shall be from among the representatives of the States that are Parties to the Convention and one or more and if possible all the Protocols that have entered into force by the opening of the session The bureau shall include at least two representatives of States that are Parties to all the instruments that have entered into force by the opening of the session The offices of the President and Rapporteur of the Conference shall normally be subject to rotation among the five regional groups On behalf of the States Members of the United Nations that are members of the European Union Sixtieth session Agenda item 124 Proposed programme budget for the biennium 2006-2007 Proposed programme budget for the biennium 2006-2007 : Section 29 , Office of Internal Oversight Services Fifteenth report of the Advisory Committee on Administrative and Budgetary Questions The Advisory Committee recalls that at the time of its consideration of the proposed programme budget for the 2006-2007 biennium , it was informed that there would be a substantial revision to the proposal of the Office of Internal Oversight Services ( OIOS ) and that this new proposal would be submitted during the sixtieth session of the General Assembly , before the end of 2005 ( see A / 60 / 7 , paras Accordingly , the Committee did not address the initial estimates at that time , but instead , indicated its readiness to take up the estimates as soon as they would be available \"\"\""
   ]
  },
  {
   "cell_type": "code",
   "execution_count": 6,
   "metadata": {},
   "outputs": [],
   "source": [
    "es_str = \"\"\"\n",
    "La Conferencia de las Partes en la Convención de las Naciones Unidas contra la Delincuencia Organizada Transnacional: Decide, a partir de su tercer período de sesiones, elegir al final de su período de sesiones su mesa para el período de sesiones siguiente y alentarla a que desempeñe un papel activo en la preparación del período ordinario de sesiones, así como en posibles reuniones entre períodos de sesiones Decide también enmendar el artículo 22 del reglamento en consecuencia, con efecto a partir de su tercer período de sesiones, para que diga lo siguiente Artículo 22 Elección Al final de cada período de sesiones, un Presidente, ocho Vicepresidentes -Los presidentes y un relator serán elegidos de entre los representantes de los Estados Partes El presidente, los vicepresidentes y el relator así elegidos actuarán como miembros de la mesa de la siguiente sesión y guiarán a la secretaría en los preparativos de esa sesión y de cualquier reuniones entre períodos de sesiones que puedan celebrarse Al elegir a los miembros de la mesa de la sesión, cada uno de los cinco grupos regionales estará representado por dos miembros de la mesa, uno de los cuales será de entre los representantes de los Estados que son Partes en la Convención y uno o más y si es posible todos los Protocolos que hayan entrado en vigor antes de la apertura del período de sesiones La mesa incluirá al menos dos representantes de Estados que son Partes en todos los instrumentos que hayan entrado en vigor a la apertura del período de sesiones.Los cargos del Presidente y del Relator de la Conferencia estarán normalmente sujetos a rotación entre los cinco grupos regionales En nombre de los Estados Miembros de las Naciones Unidas que estén miembros de la Unión Europea Sexagésimo período de sesiones Tema 124 del programa Proyecto de presupuesto por programas para el bienio 2006-2007 Proyecto de presupuesto por programas para el bienio 2006-2007: Sección 29, Oficina de Servicios de Supervisión Interna Decimoquinto informe de la Comisión Consultiva en Asuntos Administrativos y de Presupuesto La Comisión recuerda que, en el momento de su examen del proyecto de presupuesto por programas para el bienio 2006-2007 um, se le informó que habría una revisión sustancial de la propuesta de la Oficina de Servicios de Supervisión Interna (OSSI) y que esta nueva propuesta se presentaría durante el sexagésimo período de sesiones de la Asamblea General, antes de finales de 2005 (véase A / 60/7, párrs. En consecuencia, el Comité no abordó las estimaciones iniciales en ese momento, sino que indicó que estaba dispuesto a examinar las estimaciones tan pronto como estuvieran disponibles. \n",
    "\"\"\""
   ]
  },
  {
   "cell_type": "code",
   "execution_count": 7,
   "metadata": {},
   "outputs": [],
   "source": [
    "fr_str = \"\"\"\n",
    "La Conférence des Parties à la Convention des Nations Unies contre la criminalité transnationale organisée : Décide , à compter de sa troisième session , d' élire à la fin de sa session son bureau pour la session suivante et de l' encourager à jouer un rôle actif dans la préparation de la session ordinaire ainsi que lors d' éventuelles réunions intersessions Décide également de modifier l' article 22 du règlement intérieur en conséquence , avec effet à sa troisième session , pour se lire comme suit Article 22 Élection À la fin de chaque session , un président , huit vice - -Les présidents et un rapporteur sont élus parmi les représentants des États parties. Le président, les vice-présidents et le rapporteur ainsi élus font fonction de bureau de la session suivante et guident le secrétariat dans la préparation de cette session et de réunions intersessions qui peuvent avoir lieu Lors de l' élection du bureau de la session , chacun des cinq groupes régionaux est représenté par deux membres du bureau , dont un parmi les représentants des Etats parties à la Convention et un ou plusieurs et si possible tous les Protocoles qui sont entrés en vigueur à l'ouverture de la session Le bureau comprend au moins deux représentants des Etats qui sont Parties à tous les instruments qui sont entrés en vigueur à l'ouverture de la session Les bureaux du Président et du Rapporteur de la Conférence sont normalement soumis à rotation entre les cinq groupes régionaux Au nom des États Membres des Nations Unies qui sont membres de l' Union européenne Soixantième session Point 124 de l' ordre du jour Projet de budget - programme pour l' exercice biennal 2006-2007 Projet de budget - programme pour l' exercice biennal 2006-2007 : chapitre 29 , Bureau des services de contrôle interne Quinzième rapport du Comité consultatif pour les questions administratives et budgétaires Le Comité rappelle qu'au moment de l'examen du projet de budget-programme pour l'exercice biennal 2006-2007 euh , il a été informé qu'il y aurait une révision substantielle de la proposition du Bureau des services de contrôle interne ( BSCI ) et que cette nouvelle proposition serait soumise au cours de la soixantième session de l' Assemblée générale , avant la fin de 2005 ( voir A / 60 / 7 , paras En conséquence , le Comité n'a pas examiné les estimations initiales à ce moment - là , mais a plutôt indiqué qu'il était prêt à examiner les estimations dès qu'elles seraient disponibles . \n",
    "\"\"\""
   ]
  },
  {
   "cell_type": "code",
   "execution_count": 8,
   "metadata": {},
   "outputs": [],
   "source": [
    "de_str = \"\"\"\n",
    "Die Konferenz der Vertragsparteien des Übereinkommens der Vereinten Nationen gegen die grenzüberschreitende organisierte Kriminalität : beschließt , mit Wirkung ab ihrer dritten Tagung am Ende ihrer Tagung ihr Präsidium für die folgende Tagung zu wählen und es zu ermutigen , sich aktiv an der Vorbereitung zu beteiligen der ordentlichen Tagung sowie bei eventuellen Zwischensitzungen beschließt außerdem , Regel 22 der Geschäftsordnung mit Wirkung ab der dritten Tagung wie folgt entsprechend zu ändern Regel 22 Wahl Am Ende jeder Tagung werden ein Präsident , acht stellvertretende -Präsidenten und ein Berichterstatter werden aus den Vertretern der Vertragsstaaten gewählt Der Präsident, die Vizepräsidenten und der so gewählte Berichterstatter fungieren als Amtsträger der nachfolgenden Tagung und leiten das Sekretariat bei den Vorbereitungen dieser Tagung und für alle Zwischensitzungen , die abgehalten werden können Bei der Wahl der Sitzungsleiter wird jede der fünf Regionalgruppen durch zwei Amtsträger vertreten . einer von ihnen gehört zu den Vertretern der Staaten, die Vertragsparteien des Übereinkommens sind, und eines oder mehrerer und möglichst aller Protokolle, die bei Eröffnung der Tagung in Kraft getreten sind. Dem Präsidium gehören mindestens zwei Vertreter von Staaten an, die sind Vertragsparteien aller Urkunden, die bis zur Eröffnung der Tagung in Kraft getreten sind Die Ämter des Präsidenten und des Berichterstatters der Konferenz unterliegen normalerweise einem Rotationswechsel zwischen den fünf Regionalgruppen Im Namen der Mitgliedstaaten der Vereinten Nationen, die Mitglieder der Europäischen Union Sechzigste Tagung Tagesordnungspunkt 124 Vorgeschlagener Programmhaushalt für den Zweijahreszeitraum 2006-2007 Vorgeschlagener Programmhaushalt für den Zweijahreszeitraum 2006-2007: Abschnitt 29, Amt für interne Aufsichtsdienste Fünfzehnter Bericht des Beratenden Ausschusses für Verwaltungs- und Haushaltsfragen Der Beratende Der Ausschuss erinnert daran, dass zum Zeitpunkt seiner Prüfung des vorgeschlagenen Programmhaushalts für die Rechnungsperiode 2006-2007 um , wurde ihm mitgeteilt , dass der Vorschlag des Amtes für interne Aufsichtsdienste ( AIAD ) grundlegend überarbeitet und dieser neue Vorschlag während der sechzigsten Tagung der Generalversammlung vor Ende 2005 vorgelegt werde ( siehe A / 60 / 7 , Abs. Dementsprechend hat sich der Ausschuss zu diesem Zeitpunkt nicht mit den ersten Schätzungen befasst , sondern sich bereit erklärt , die Schätzungen aufzunehmen , sobald sie vorliegen \n",
    "\"\"\""
   ]
  },
  {
   "cell_type": "code",
   "execution_count": 9,
   "metadata": {},
   "outputs": [],
   "source": [
    "ru_str = \"\"\"\n",
    "Конференция Сторон Конвенции Организации Объединенных Наций против транснациональной организованной преступности: постановляет, начиная со своей третьей сессии, избрать в конце своей сессии свое бюро для следующей сессии и призвать ее играть активную роль в подготовке. очередной сессии, а также возможных межсессионных совещаний. Также постановляет внести соответствующие поправки в правило 22 правил процедуры, начиная со своей третьей сессии, следующим образом. Правило 22 Выборы В конце каждой сессии Председатель, восемь заместителей - Президенты и докладчик избираются из числа представителей государств-участников. Избранные таким образом Председатель, заместители председателя и докладчик будут выполнять функции должностных лиц следующей сессии и направлять секретариат в ходе подготовки к этой сессии и к любой другой сессии. межсессионные встречи, которые могут проводиться При избрании должностных лиц сессии каждая из пяти региональных групп должна быть представлена двумя должностными лицами, один из которых должен быть из числа представителей государств, являющихся участниками Конвенции, и одного или нескольких и, если возможно, всех протоколов, вступивших в силу к открытию сессии. В состав бюро входят по крайней мере два представителя государств, которые являются участниками всех документов, вступивших в силу к моменту открытия сессии. Должности Председателя и Докладчика Конференции обычно подлежат ротации между пятью региональными группами. От имени государств-членов Организации Объединенных Наций, которые члены Шестидесятой сессии Европейского союза Пункт 124 повестки дня Предлагаемый бюджет по программам на двухгодичный период 2006–2007 годов Предлагаемый бюджет по программам на двухгодичный период 2006–2007 годов: Раздел 29, Управление служб внутреннего надзора Пятнадцатый доклад Консультативного комитета по административным и бюджетным вопросам Консультативный Комитет напоминает, что на момент рассмотрения предлагаемого бюджета по программам на двухгодичный период 2006-2007 гг. гм, он был проинформирован о том, что предложение Управления служб внутреннего надзора (УСВН) будет существенно изменено и что это новое предложение будет представлено на шестидесятой сессии Генеральной Ассамблеи до конца 2005 года (см. / 60/7, пункты Соответственно, Комитет не рассматривал первоначальные сметы в то время, а вместо этого заявил о своей готовности принять сметы, как только они будут получены. \n",
    "\"\"\""
   ]
  },
  {
   "cell_type": "code",
   "execution_count": 10,
   "metadata": {},
   "outputs": [],
   "source": [
    "lang_text_dict = {\n",
    "    \"english\":en_str,\n",
    "    \"spanish\":es_str,\n",
    "    \"french\":fr_str,\n",
    "    \"german\":de_str,\n",
    "    \"russian\":ru_str,\n",
    "}"
   ]
  },
  {
   "cell_type": "code",
   "execution_count": 11,
   "metadata": {},
   "outputs": [],
   "source": [
    "#df = _s.voidMakeTemplateAlignDf(\"spanish\",es_str,\"french\",fr_str,\"te\")"
   ]
  },
  {
   "cell_type": "code",
   "execution_count": null,
   "metadata": {},
   "outputs": [],
   "source": []
  },
  {
   "cell_type": "code",
   "execution_count": 12,
   "metadata": {},
   "outputs": [],
   "source": [
    "#_s.voidDfToCSV(df,\"es_fr.csv\")"
   ]
  },
  {
   "cell_type": "code",
   "execution_count": 13,
   "metadata": {},
   "outputs": [
    {
     "data": {
      "text/html": [
       "<div>\n",
       "<style scoped>\n",
       "    .dataframe tbody tr th:only-of-type {\n",
       "        vertical-align: middle;\n",
       "    }\n",
       "\n",
       "    .dataframe tbody tr th {\n",
       "        vertical-align: top;\n",
       "    }\n",
       "\n",
       "    .dataframe thead th {\n",
       "        text-align: right;\n",
       "    }\n",
       "</style>\n",
       "<table border=\"1\" class=\"dataframe\">\n",
       "  <thead>\n",
       "    <tr style=\"text-align: right;\">\n",
       "      <th></th>\n",
       "      <th>spanish</th>\n",
       "      <th>french</th>\n",
       "      <th>index</th>\n",
       "      <th>alignment</th>\n",
       "      <th>spanish_eng</th>\n",
       "      <th>french_eng</th>\n",
       "    </tr>\n",
       "  </thead>\n",
       "  <tbody>\n",
       "    <tr>\n",
       "      <th>0</th>\n",
       "      <td>the</td>\n",
       "      <td>conférence</td>\n",
       "      <td>0</td>\n",
       "      <td>NaN</td>\n",
       "      <td>the</td>\n",
       "      <td>conference</td>\n",
       "    </tr>\n",
       "    <tr>\n",
       "      <th>1</th>\n",
       "      <td>conference</td>\n",
       "      <td>parties</td>\n",
       "      <td>1</td>\n",
       "      <td>NaN</td>\n",
       "      <td>conference</td>\n",
       "      <td>parts</td>\n",
       "    </tr>\n",
       "    <tr>\n",
       "      <th>2</th>\n",
       "      <td>of</td>\n",
       "      <td>convention</td>\n",
       "      <td>2</td>\n",
       "      <td>NaN</td>\n",
       "      <td>of</td>\n",
       "      <td>convention</td>\n",
       "    </tr>\n",
       "    <tr>\n",
       "      <th>3</th>\n",
       "      <td>the</td>\n",
       "      <td>nations</td>\n",
       "      <td>3</td>\n",
       "      <td>NaN</td>\n",
       "      <td>the</td>\n",
       "      <td>nations</td>\n",
       "    </tr>\n",
       "    <tr>\n",
       "      <th>4</th>\n",
       "      <td>parties</td>\n",
       "      <td>unies</td>\n",
       "      <td>4</td>\n",
       "      <td>NaN</td>\n",
       "      <td>parties</td>\n",
       "      <td>united</td>\n",
       "    </tr>\n",
       "    <tr>\n",
       "      <th>...</th>\n",
       "      <td>...</td>\n",
       "      <td>...</td>\n",
       "      <td>...</td>\n",
       "      <td>...</td>\n",
       "      <td>...</td>\n",
       "      <td>...</td>\n",
       "    </tr>\n",
       "    <tr>\n",
       "      <th>385</th>\n",
       "      <td>as</td>\n",
       "      <td>NaN</td>\n",
       "      <td>385</td>\n",
       "      <td>NaN</td>\n",
       "      <td>ace</td>\n",
       "      <td>NaN</td>\n",
       "    </tr>\n",
       "    <tr>\n",
       "      <th>386</th>\n",
       "      <td>they</td>\n",
       "      <td>NaN</td>\n",
       "      <td>386</td>\n",
       "      <td>NaN</td>\n",
       "      <td>they</td>\n",
       "      <td>NaN</td>\n",
       "    </tr>\n",
       "    <tr>\n",
       "      <th>387</th>\n",
       "      <td>would</td>\n",
       "      <td>NaN</td>\n",
       "      <td>387</td>\n",
       "      <td>NaN</td>\n",
       "      <td>would</td>\n",
       "      <td>NaN</td>\n",
       "    </tr>\n",
       "    <tr>\n",
       "      <th>388</th>\n",
       "      <td>be</td>\n",
       "      <td>NaN</td>\n",
       "      <td>388</td>\n",
       "      <td>NaN</td>\n",
       "      <td>be</td>\n",
       "      <td>NaN</td>\n",
       "    </tr>\n",
       "    <tr>\n",
       "      <th>389</th>\n",
       "      <td>available</td>\n",
       "      <td>NaN</td>\n",
       "      <td>389</td>\n",
       "      <td>NaN</td>\n",
       "      <td>available</td>\n",
       "      <td>NaN</td>\n",
       "    </tr>\n",
       "  </tbody>\n",
       "</table>\n",
       "<p>390 rows × 6 columns</p>\n",
       "</div>"
      ],
      "text/plain": [
       "        spanish      french  index  alignment spanish_eng  french_eng\n",
       "0           the  conférence      0        NaN         the  conference\n",
       "1    conference     parties      1        NaN  conference       parts\n",
       "2            of  convention      2        NaN          of  convention\n",
       "3           the     nations      3        NaN         the     nations\n",
       "4       parties       unies      4        NaN     parties      united\n",
       "..          ...         ...    ...        ...         ...         ...\n",
       "385          as         NaN    385        NaN         ace         NaN\n",
       "386        they         NaN    386        NaN        they         NaN\n",
       "387       would         NaN    387        NaN       would         NaN\n",
       "388          be         NaN    388        NaN          be         NaN\n",
       "389   available         NaN    389        NaN   available         NaN\n",
       "\n",
       "[390 rows x 6 columns]"
      ]
     },
     "execution_count": 13,
     "metadata": {},
     "output_type": "execute_result"
    }
   ],
   "source": [
    "pd.read_csv(\"es_fr.csv\")"
   ]
  },
  {
   "cell_type": "code",
   "execution_count": 14,
   "metadata": {},
   "outputs": [
    {
     "ename": "NameError",
     "evalue": "name 'voidDfToCSV' is not defined",
     "output_type": "error",
     "traceback": [
      "\u001b[1;31m---------------------------------------------------------------------------\u001b[0m",
      "\u001b[1;31mNameError\u001b[0m                                 Traceback (most recent call last)",
      "\u001b[1;32m<ipython-input-14-73395aba4fcf>\u001b[0m in \u001b[0;36m<module>\u001b[1;34m\u001b[0m\n\u001b[1;32m----> 1\u001b[1;33m \u001b[0m_s\u001b[0m\u001b[1;33m.\u001b[0m\u001b[0mvoidPopulateAlignmentCSV\u001b[0m\u001b[1;33m(\u001b[0m\u001b[1;34m\"spanish\"\u001b[0m\u001b[1;33m,\u001b[0m\u001b[1;34m\"french\"\u001b[0m\u001b[1;33m,\u001b[0m\u001b[1;34m\"es_fr.csv\"\u001b[0m\u001b[1;33m)\u001b[0m\u001b[1;33m\u001b[0m\u001b[1;33m\u001b[0m\u001b[0m\n\u001b[0m",
      "\u001b[1;32mD:\\Desktop\\Personal\\02_research\\linguistic-distance\\lcp_python_libs\\SheetMaker.py\u001b[0m in \u001b[0;36mvoidPopulateAlignmentCSV\u001b[1;34m(self, strLangA, strLangB, strFilePath)\u001b[0m\n\u001b[0;32m    453\u001b[0m                 \u001b[0mdfAligned\u001b[0m \u001b[1;33m=\u001b[0m \u001b[0mself\u001b[0m\u001b[1;33m.\u001b[0m\u001b[0mdfGenerateAlignments\u001b[0m\u001b[1;33m(\u001b[0m\u001b[0mstrLangA\u001b[0m\u001b[1;33m,\u001b[0m\u001b[0mstrLangB\u001b[0m\u001b[1;33m,\u001b[0m\u001b[1;36m5\u001b[0m\u001b[1;33m,\u001b[0m\u001b[0mdfCSV\u001b[0m\u001b[1;33m)\u001b[0m\u001b[1;33m\u001b[0m\u001b[1;33m\u001b[0m\u001b[0m\n\u001b[0;32m    454\u001b[0m \u001b[1;33m\u001b[0m\u001b[0m\n\u001b[1;32m--> 455\u001b[1;33m                 \u001b[0mvoidDfToCSV\u001b[0m\u001b[1;33m(\u001b[0m\u001b[0mdfAligned\u001b[0m\u001b[1;33m,\u001b[0m\u001b[0mstrFilePath\u001b[0m\u001b[1;33m)\u001b[0m\u001b[1;33m\u001b[0m\u001b[1;33m\u001b[0m\u001b[0m\n\u001b[0m\u001b[0;32m    456\u001b[0m \u001b[1;33m\u001b[0m\u001b[0m\n\u001b[0;32m    457\u001b[0m         \u001b[1;32mdef\u001b[0m \u001b[0mmake_auto_matched_csv\u001b[0m\u001b[1;33m(\u001b[0m\u001b[0mself\u001b[0m\u001b[1;33m,\u001b[0m\u001b[0mlang_str_dict\u001b[0m\u001b[1;33m,\u001b[0m\u001b[0mstep\u001b[0m\u001b[1;33m,\u001b[0m\u001b[0mdir_name\u001b[0m\u001b[1;33m)\u001b[0m\u001b[1;33m:\u001b[0m\u001b[1;33m\u001b[0m\u001b[1;33m\u001b[0m\u001b[0m\n",
      "\u001b[1;31mNameError\u001b[0m: name 'voidDfToCSV' is not defined"
     ]
    }
   ],
   "source": [
    "_s.voidPopulateAlignmentCSV(\"spanish\",\"french\",\"es_fr.csv\")"
   ]
  },
  {
   "cell_type": "code",
   "execution_count": null,
   "metadata": {},
   "outputs": [],
   "source": []
  },
  {
   "cell_type": "code",
   "execution_count": null,
   "metadata": {},
   "outputs": [],
   "source": []
  }
 ],
 "metadata": {
  "kernelspec": {
   "display_name": "Python 3",
   "language": "python",
   "name": "python3"
  },
  "language_info": {
   "codemirror_mode": {
    "name": "ipython",
    "version": 3
   },
   "file_extension": ".py",
   "mimetype": "text/x-python",
   "name": "python",
   "nbconvert_exporter": "python",
   "pygments_lexer": "ipython3",
   "version": "3.8.2"
  }
 },
 "nbformat": 4,
 "nbformat_minor": 4
}
