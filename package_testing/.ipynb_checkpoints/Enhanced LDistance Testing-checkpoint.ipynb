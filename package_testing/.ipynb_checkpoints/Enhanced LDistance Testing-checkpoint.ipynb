{
 "cells": [
  {
   "cell_type": "code",
   "execution_count": 6,
   "id": "b66810eb",
   "metadata": {},
   "outputs": [],
   "source": [
    "import numpy as np"
   ]
  },
  {
   "cell_type": "code",
   "execution_count": 2,
   "id": "6ec7af73",
   "metadata": {},
   "outputs": [],
   "source": [
    "dictDPartials = {'d': ['t']}"
   ]
  },
  {
   "cell_type": "code",
   "execution_count": 3,
   "id": "af9cdc88",
   "metadata": {},
   "outputs": [
    {
     "data": {
      "text/plain": [
       "['t']"
      ]
     },
     "execution_count": 3,
     "metadata": {},
     "output_type": "execute_result"
    }
   ],
   "source": [
    "dictDPartials['d']"
   ]
  },
  {
   "cell_type": "code",
   "execution_count": 4,
   "id": "c0775fd1",
   "metadata": {},
   "outputs": [],
   "source": [
    "def floatLDistance(strA, strB):\n",
    "    \"\"\"\n",
    "    Inputs:\n",
    "    a string \"strA\", a string \"strB\"\n",
    "    Outputs:\n",
    "    float\n",
    "    Utility:\t\n",
    "    This function calculates the distances between string A and B and returns their Levenshtein Distance.\n",
    "    \"\"\"\n",
    "\n",
    "    #setting up nparrMatrix\n",
    "    intSizeX = len(strA) + 1\n",
    "    intSizeY = len(strB) + 1\n",
    "    nparrMatrix = np.zeros((intSizeX, intSizeY))\n",
    "    for intX in range(intSizeX):\n",
    "        nparrMatrix [intX, 0] = intX\n",
    "    for intY in range(intSizeY):\n",
    "        nparrMatrix [0, intY] = intY\n",
    "\n",
    "    #populating nparrMatrix\n",
    "    for intX in range(1, intSizeX):\n",
    "        for intY in range(1, intSizeY):\n",
    "            if strA[intX-1] == strB[intY-1]: #elements are equal\n",
    "                nparrMatrix[intX][intY] = nparrMatrix[intX-1][intY-1]\n",
    "            elif strA in dictDPartials and strB in dictDPartials[strA]:\n",
    "                print(\"PARTIAl\")\n",
    "                nparrMatrix[intX][intY] = nparrMatrix[intX-1][intY-1]/2 #partial match\n",
    "            else: \n",
    "                a = nparrMatrix[intX][intY-1]\n",
    "                b = nparrMatrix[intX-1][intY]\n",
    "                c = nparrMatrix[intX-1][intY-1]\n",
    "                if (a <= b and a <= c):\n",
    "                    nparrMatrix[intX][intY] = a + 1\n",
    "                elif (b <= a and b <= c):\n",
    "                    nparrMatrix[intX][intY] = b + 1\n",
    "                else:\n",
    "                    nparrMatrix[intX][intY] = c + 1\n",
    "    # bottom-right element is l-distance\n",
    "    distance = nparrMatrix[-1][-1]\n",
    "\n",
    "    #taking into consideration the length of the words\n",
    "    intLength = 0\n",
    "    if ((len(strA) > len(strB)) or (len(strA) == len(strB))):\n",
    "        intLength = len(strA)\n",
    "    else:\n",
    "        intLength = len(strB)\n",
    "\n",
    "    lscore = ((intLength - distance) / intLength) \n",
    "\n",
    "    return lscore\n",
    "       "
   ]
  },
  {
   "cell_type": "code",
   "execution_count": 5,
   "id": "85bee15c",
   "metadata": {},
   "outputs": [
    {
     "name": "stdout",
     "output_type": "stream",
     "text": [
      "0.75\n"
     ]
    }
   ],
   "source": [
    "strTestA = \"done\"\n",
    "strTestB = \"tone\"\n",
    "print(floatLDistance(strTestA, strTestB))"
   ]
  },
  {
   "cell_type": "code",
   "execution_count": null,
   "id": "35af6919",
   "metadata": {},
   "outputs": [],
   "source": []
  }
 ],
 "metadata": {
  "kernelspec": {
   "display_name": "Python 3",
   "language": "python",
   "name": "python3"
  },
  "language_info": {
   "codemirror_mode": {
    "name": "ipython",
    "version": 3
   },
   "file_extension": ".py",
   "mimetype": "text/x-python",
   "name": "python",
   "nbconvert_exporter": "python",
   "pygments_lexer": "ipython3",
   "version": "3.8.8"
  }
 },
 "nbformat": 4,
 "nbformat_minor": 5
}
