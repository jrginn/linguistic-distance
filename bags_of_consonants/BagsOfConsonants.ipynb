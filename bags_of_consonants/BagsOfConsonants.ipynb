{
 "cells": [
  {
   "cell_type": "code",
   "execution_count": 14,
   "metadata": {},
   "outputs": [],
   "source": [
    "import unidecode"
   ]
  },
  {
   "cell_type": "code",
   "execution_count": 15,
   "metadata": {},
   "outputs": [],
   "source": [
    "# function to remove vowels, common words, numbers, and punctuation, as well as stem the words\n",
    "# accepts 2 parameters: string for sample and string for language\n",
    "def clean_sample(sample, language):\n",
    "    import nltk \n",
    "    import re # to use in regular expressions\n",
    "    from nltk.stem.snowball import SnowballStemmer # to stem words, doesn't work well\n",
    "    from nltk.corpus import stopwords # to remove common words\n",
    "    \n",
    "    # creating objects for stemmer, common words and key for punctuation/numbers to be removed\n",
    "    stemmer = SnowballStemmer(str(language))\n",
    "    common_words = stopwords.words(language)\n",
    "    toRemove = re.compile(r\"[aeiou0-9,@\\?\\.$%_/:() ]\")\n",
    "\n",
    "    # separates sentence into elements and stores in elemList\n",
    "    elemList=sample.split()\n",
    "    \n",
    "    # stemming first\n",
    "    stems=[]\n",
    "    for elem in elemList:\n",
    "        if elem not in common_words:\n",
    "            w = stemmer.stem(elem)\n",
    "            stems.append(w)\n",
    "\n",
    "    #now removing punctuation, numbers, vowels and storing in wordList\n",
    "    wordList=[]\n",
    "    for i in stems:\n",
    "        s = i\n",
    "        elem = re.sub(toRemove, \"\", s.lower())\n",
    "        elem = unidecode.unidecode(elem)\n",
    "        # NEW NOT IN LD CODE YET: USE OF UNIDECODER\n",
    "        wordList.append(elem)\n",
    "    \n",
    "    # stems words and appends them to list to be returned\n",
    "    return wordList"
   ]
  },
  {
   "cell_type": "code",
   "execution_count": 16,
   "metadata": {},
   "outputs": [],
   "source": [
    "# function to remove vowels, numbers, and punctuation\n",
    "# accepts 1 parameters: string for sample\n",
    "def only_consonants(aStr):\n",
    "    import re # to use in regular expressions\n",
    "    \n",
    "    # creating key for punctuation/numbers to be removed\n",
    "    # NEW: ADDED ' CHARACTER AND ! CHAR\n",
    "    toRemove = re.compile(r\"[aeiou0-9,@\\?\\.$%_/\\!:()' ]\")\n",
    "\n",
    "    # separates sentence into elements and stores in elemList\n",
    "    aStr = unidecode.unidecode(aStr.lower())\n",
    "    elemList=aStr.split()\n",
    "    \n",
    "    #now removing punctuation, numbers, vowels and storing in wordList\n",
    "    wordList=[]\n",
    "    for i in elemList:\n",
    "        elem = re.sub(toRemove, \"\", i)\n",
    "        wordList.append(elem)\n",
    "    \n",
    "    # stems words and appends them to list to be returned\n",
    "    return wordList"
   ]
  },
  {
   "cell_type": "code",
   "execution_count": 17,
   "metadata": {},
   "outputs": [],
   "source": [
    "# returns a dictionary of form {consonant : count}\n",
    "# Note: not using stemmer here, just stripping extracting the consonants.\n",
    "def get_c_dict(sample):\n",
    "    # initialize an empty dictionary\n",
    "    c_dict = {}\n",
    "    # strip the string input to only consonants\n",
    "    # first clean sample (returns a list), use join to turn to string\n",
    "    striped_c = (\"\").join(only_consonants(sample))\n",
    "    \n",
    "    # populate the dictionary\n",
    "    for c in striped_c:\n",
    "        if c in c_dict.keys():\n",
    "            # increment count\n",
    "            c_dict[c] +=1\n",
    "        else:\n",
    "            # add to consonant dict\n",
    "            c_dict[c] = 1\n",
    "    \n",
    "    return c_dict"
   ]
  },
  {
   "cell_type": "code",
   "execution_count": 18,
   "metadata": {},
   "outputs": [],
   "source": [
    "# returns a dictionary of the differences for each found consonant\n",
    "\n",
    "def get_diff_dict(sampleA,sampleB):\n",
    "    # initialize empty dictionary\n",
    "    diff_dict = {}\n",
    "    \n",
    "    # strip both strings\n",
    "    c_dictA = get_c_dict(sampleA)\n",
    "    c_dictB = get_c_dict(sampleB)\n",
    "    \n",
    "    # get all unique consonants found between both strings\n",
    "    # add both keys, then take the set of them\n",
    "    # set returns all individual elements, so we only get uniques\n",
    "    found_consonants = list(c_dictA.keys()) + list(c_dictB.keys())\n",
    "    uniq_consonants = set(found_consonants)\n",
    "    \n",
    "    for c in uniq_consonants:\n",
    "        if(c in c_dictA and c in c_dictB):\n",
    "            # a consonant appears in both strings\n",
    "            # thus can properly subtract them\n",
    "            # take absolute value so we can normalize later based on some factor\n",
    "            difference = abs(c_dictA[c] - c_dictB[c])\n",
    "            diff_dict[c] = difference\n",
    "            \n",
    "        elif(c in c_dictA):\n",
    "            # unique consonant only in one string, cannot subtract\n",
    "            # thus the difference is the number of appearances of unique consonant in the one string\n",
    "            diff_dict[c] = c_dictA[c]\n",
    "        else:\n",
    "            diff_dict[c] = c_dictB[c]\n",
    "            \n",
    "    return diff_dict"
   ]
  },
  {
   "cell_type": "code",
   "execution_count": 19,
   "metadata": {},
   "outputs": [],
   "source": [
    "def alpha_sort_dict(aDict):\n",
    "    \"\"\"Returns an alphabetically sorted dictionary.\"\"\"\n",
    "    sorted_d = {}\n",
    "    for i in sorted(aDict):\n",
    "        sorted_d[i] = aDict[i]\n",
    "        \n",
    "    return sorted_d"
   ]
  },
  {
   "cell_type": "code",
   "execution_count": 20,
   "metadata": {},
   "outputs": [
    {
     "data": {
      "text/plain": [
       "292"
      ]
     },
     "execution_count": 20,
     "metadata": {},
     "output_type": "execute_result"
    }
   ],
   "source": [
    "eng_doc = \"\"\"The General Assembly,\n",
    "\n",
    "Recalling that, in accordance with Article 56 of the Charter of the United Nations, all Member States have pledged themselves to take joint and separate action in cooperation with the Organization for the achievement of the purposes set forth in Article 55, including universal respect for and observance of, human rights and fundamental freedoms for all without distinction as to race, sex, language or religion,\n",
    "\n",
    "Recalling also the Preamble to the Charter, in particular the determination to reaffirm faith in fundamental human rights, in the dignity and worth of the human person and in the equal rights of men and women and of nations large and small,\n",
    "\n",
    "Reaffirming that the promotion and protection of all human rights and fundamental freedoms must be considered a priority objective of the United Nations in accordance with its purposes and principles, in particular the purpose of international cooperation, and that, within the framework of these purposes and principles, the promotion and protection of all human rights are a legitimate concern of the international community,\n",
    "\n",
    "Considering the major changes taking place on the international scene and the aspirations of all peoples to an international order based on the principles enshrined in the Charter, including promoting and encouraging respect for human rights and fundamental freedoms for all and respect for the principle of equal rights and self-determination of peoples, peace, democracy, justice, equality, rule of law, pluralism, development, better standards of living and solidarity,\n",
    "\n",
    "Recognizing that the international community should devise ways and means to remove current obstacles and meet the challenges to the full realization of all human rights and to prevent the continuation of human rights violations resulting therefrom throughout the world, as well as continue to pay attention to the importance of mutual cooperation, understanding and dialogue in ensuring the promotion and protection of all human rights,\n",
    "\n",
    "Reaffirming that the enhancement of international cooperation in the field of human rights is essential for the full achievement of the purposes of the United Nations and that human rights and fundamental freedoms are the birthright of all human beings, the protection and promotion of such rights and freedoms being the first responsibility of Governments,\n",
    "\n",
    "Reaffirming also that all human rights are universal, indivisible, interdependent and interrelated and that the international community must treat human rights globally in a fair and equal manner, on the same footing and with the same emphasis,\n",
    "\n",
    "Reaffirming further the various articles of the Charter setting out the respective powers and functions of the General Assembly, the Security Council and the Economic and Social Council, as the paramount framework for the achievement of the purposes of the United Nations,\n",
    "\n",
    "Reaffirming the commitment of all States to fulfil their obligations under other important instruments of international law, in particular those of international human rights and humanitarian law,\n",
    "\n",
    "Taking into account that, in accordance with Article 103 of the Charter, in the event of a conflict between the obligations of the Members of the United Nations under the Charter and their obligations under any other international agreement, their obligations under the Charter shall prevail\"\"\"\n",
    "\n",
    "fr_doc = \"\"\"L'Assemblée générale,\n",
    "\n",
    "Rappelant que, conformément à l'Article 56 de la Charte des Nations Unies, tous les États Membres se sont engagés à agir, tant conjointement que séparément, en coopération avec l'Organisation, en vue d'atteindre les buts énoncés à l'Article 55 de la Charte, notamment le respect universel et effectif des droits de l'homme et des libertés fondamentales pour tous, sans distinction de race, de sexe, de langue ou de religion,\n",
    "\n",
    "Rappelant également le Préambule de la Charte, dans lequel les peuples des Nations Unies se sont déclarés résolus, en particulier, à proclamer à nouveau leur foi dans les droits fondamentaux de l'homme, dans la dignité et la valeur de la personne humaine et dans l'égalité de droits des hommes et des femmes, ainsi que des nations, grandes et petites,\n",
    "\n",
    "Réaffirmant que la défense et la protection de tous les droits de l'homme et de toutes les libertés fondamentales doivent être considérées comme un objectif prioritaire des Nations Unies conformément à ses buts et principes, en particulier le but de la coopération internationale, et que, dans le cadre de ces buts et principes, la défense et la protection de tous les droits de l'homme sont une préoccupation légitime de la communauté internationale,\n",
    "\n",
    "Considérant les changements notoires qui se produisent dans le monde et le fait que tous les peuples aspirent à un ordre international fondé sur les principes consacrés par la Charte, notamment la nécessité de promouvoir et d'encourager le respect des droits de l'homme et des libertés fondamentales pour tous et le respect du principe de l'égalité de droits et de l'autodétermination des peuples, la paix, la démocratie, la justice, l'égalité, la primauté du droit, le pluralisme, le développement, l'instauration de meilleures conditions de vie et la solidarité,\n",
    "\n",
    "Considérant également que la communauté internationale devrait chercher les moyens d'écarter les obstacles qui s'opposent aujourd'hui à la pleine réalisation de tous les droits de l'homme et mettre un terme aux violations des droits de l'homme qui en résultent dans le monde, ainsi que continuer à accorder l'attention voulue à l'\n",
    "\n",
    "importance de la coopération mutuelle, de la compréhension mutuelle et du dialogue comme moyens d'assurer la défense et la protection de tous les droits de l'homme,\n",
    "\n",
    "Réaffirmant qu'il est essentiel de renforcer la coopération internationale dans le domaine des droits de l'homme pour assurer la pleine réalisation des objectifs des Nations Unies et que les droits de l'homme et les libertés fondamentales sont inhérents à tous les êtres humains, la défense et la protection de ces droits et libertés incombant au premier chef aux gouvernements,\n",
    "\n",
    "Réaffirmant également que tous les droits de l'homme sont universels, indissociables, interdépendants et étroitement liés et que la communauté internationale doit les considérer globalement et les traiter tous de la même manière, en les mettant sur un pied d'égalité et en leur accordant le même poids,\n",
    "\n",
    "Réaffirmant en outre les divers articles de la Charte où sont définis les fonctions et pouvoirs respectifs de l'Assemblée générale, du Conseil de sécurité et du Conseil économique et social, qui servent de tremplin pour la réalisation des buts des Nations Unies,\n",
    "\n",
    "Réaffirmant que les États se sont engagés à s'acquitter des obligations qui leur incombent en vertu d'autres instruments importants du droit international, en particulier ceux qui traitent des droits de l'homme internationalement reconnus et du droit international humanitaire,\n",
    "\n",
    "Considérant que, conformément à l'Article 103 de la Charte, en cas de conflit entre les obligations des Membres des Nations Unies en vertu de la Charte et leurs obligations en vertu de tout autre accord international, les premières prévaudront,\n",
    "\"\"\"\n",
    "\n",
    "get_c_dict(eng_doc)['t']"
   ]
  },
  {
   "cell_type": "code",
   "execution_count": 21,
   "metadata": {},
   "outputs": [],
   "source": [
    "def get_int_dict_count(aDiffDict):\n",
    "    \"\"\"This function returns the count of all the differences between\n",
    "        consonant counts in a dictionary of consonant differences\n",
    "        (see get_diff_dict)\"\"\"\n",
    "    diff_sum = 0;\n",
    "    for key in aDiffDict.keys():\n",
    "        diff_sum += aDiffDict[key]\n",
    "        \n",
    "    return diff_sum"
   ]
  },
  {
   "cell_type": "code",
   "execution_count": 22,
   "metadata": {},
   "outputs": [
    {
     "name": "stdout",
     "output_type": "stream",
     "text": [
      "String one consonants:\n",
      "{'b': 1, 'c': 8, 'd': 11, 'f': 6, 'g': 6, 'h': 9, 'l': 6, 'm': 4, 'n': 24, 'p': 9, 'r': 16, 's': 10, 't': 20, 'v': 1, 'w': 1, 'x': 1, 'y': 1}\n",
      "\n",
      "String two consonants:\n",
      "{'b': 1, 'c': 10, 'd': 14, 'f': 1, 'g': 2, 'h': 2, 'l': 14, 'm': 3, 'n': 18, 'p': 12, 'r': 19, 's': 19, 't': 10, 'v': 1, 'x': 1, 'y': 4}\n",
      "\n",
      "Difference:\n",
      "{'b': 0, 'c': 2, 'd': 3, 'f': 5, 'g': 4, 'h': 7, 'l': 8, 'm': 1, 'n': 6, 'p': 3, 'r': 3, 's': 9, 't': 10, 'v': 0, 'w': 1, 'x': 0, 'y': 3}\n",
      "Total differences:\n",
      "65\n"
     ]
    }
   ],
   "source": [
    "# Current issues: accents on string, make sure the regex works (probably should switch to re.sub)\n",
    "# Not sure if dictionary is best. I used it out of simplicity, but when if we ever wanted to iterate a list of lists\n",
    "# could be better. I think performance would be similar, but the benefit of a dictionary is that you can simply call \n",
    "# d[\"s\"] to get all of the differences for the letter \"s\".\n",
    "\n",
    "# Ideas:\n",
    "# To normalize, we could loop through the dictionary keys to add up the differences, then use some\n",
    "# factor to get the difference between 0-1, similar to LD normalization\n",
    "str1 = \"Guided by the purposes and principles of the Charter of the United Nations, and expressing in particular the need to achieve international cooperation in promoting and encouraging respect for human rights and fundamental freedoms for all without distinction\"\n",
    "str2 = \"Guiado por los propósitos y principios de la Carta de las Naciones Unidas, y expresando en particular la necesidad de lograr la cooperación internacional para promover y alentar el respeto de los derechos humanos y las libertades fundamentales para todos sin distinción\"\n",
    "cDict1 = alpha_sort_dict(get_c_dict(str1))\n",
    "cDict2 = alpha_sort_dict(get_c_dict(str2))\n",
    "diffDict = alpha_sort_dict(get_diff_dict(str1,str2))\n",
    "\n",
    "print(\"String one consonants:\")\n",
    "print(cDict1)\n",
    "\n",
    "print(\"\\nString two consonants:\")\n",
    "print(cDict2)\n",
    "\n",
    "print(\"\\nDifference:\")\n",
    "print(diffDict)\n",
    "\n",
    "print(\"Total differences:\")\n",
    "print(get_int_dict_count(diffDict))"
   ]
  },
  {
   "cell_type": "code",
   "execution_count": 23,
   "metadata": {},
   "outputs": [
    {
     "data": {
      "text/plain": [
       "'\\nIdeas for normalization (0-1 range for similarity between strings)\\n\\n\"X\" is some value or values, D is some value or values.\\n\\n1 = same string = X - diff / D = 1\\n0 = completely difference, only differences = X - diff / D = 0\\n\\n0.5 = half same\\n\\n...\\nMaybe something like:\\n\\n(# cons str1 + # cons st2) - diff / (# cons str1 + # cons st2)\\n\\n'"
      ]
     },
     "execution_count": 23,
     "metadata": {},
     "output_type": "execute_result"
    }
   ],
   "source": [
    "\"\"\"\n",
    "Ideas for normalization (0-1 range for similarity between strings)\n",
    "\n",
    "\"X\" is some value or values, D is some value or values.\n",
    "\n",
    "1 = same string = X - diff / D = 1\n",
    "0 = completely difference, only differences = X - diff / D = 0\n",
    "\n",
    "0.5 = half same\n",
    "\n",
    "...\n",
    "Maybe something like:\n",
    "\n",
    "(# cons str1 + # cons st2) - diff / (# cons str1 + # cons st2)\n",
    "\n",
    "\"\"\""
   ]
  },
  {
   "cell_type": "code",
   "execution_count": 24,
   "metadata": {},
   "outputs": [],
   "source": [
    "def get_perc_normalized(str1,str2):\n",
    "    cDict1 = alpha_sort_dict(get_c_dict(str1))\n",
    "    cDict2 = alpha_sort_dict(get_c_dict(str2))\n",
    "    diffDict = alpha_sort_dict(get_diff_dict(str1,str2))\n",
    "    \n",
    "    total_cons = get_int_dict_count(cDict1) + get_int_dict_count(cDict2)\n",
    "    total_diff = get_int_dict_count(diffDict)\n",
    "    \n",
    "    perc = abs((total_cons - total_diff) / (total_cons))\n",
    "    \n",
    "    return perc"
   ]
  },
  {
   "cell_type": "code",
   "execution_count": 25,
   "metadata": {},
   "outputs": [
    {
     "data": {
      "text/plain": [
       "0.7547169811320755"
      ]
     },
     "execution_count": 25,
     "metadata": {},
     "output_type": "execute_result"
    }
   ],
   "source": [
    "get_perc_normalized(str1,str2)"
   ]
  },
  {
   "cell_type": "code",
   "execution_count": 26,
   "metadata": {},
   "outputs": [
    {
     "data": {
      "text/plain": [
       "0.6126126126126126"
      ]
     },
     "execution_count": 26,
     "metadata": {},
     "output_type": "execute_result"
    }
   ],
   "source": [
    "from transliterate import translit\n",
    "engSample = \"Guided by the purposes and principles of the Charter of the United Nations, and expressing in particular the need to achieve international cooperation in promoting and encouraging respect for human rights and fundamental freedoms for all without distinction\"\n",
    "rusSample = \"Руководствуясь целями и принципами Устава Организации Объединенных Наций и выражая в частности необходимость достижения международного сотрудничества \"\n",
    "\n",
    "# transliterate sample\n",
    "translitRus = []\n",
    "for i in rusSample.split():\n",
    "    translitRus.append(translit(i,'ru',reversed=True))\n",
    "# string\n",
    "rusStr = (\" \").join(translitRus)\n",
    "# get only consonants\n",
    "#rus_dict = get_c_dict((\"\").join(translitRus))\n",
    "rusStr = (\" \").join(only_consonants(rusStr))\n",
    "\n",
    "get_perc_normalized(engSample,rusStr) # TOO HIGH"
   ]
  },
  {
   "cell_type": "code",
   "execution_count": null,
   "metadata": {},
   "outputs": [],
   "source": []
  },
  {
   "cell_type": "code",
   "execution_count": null,
   "metadata": {},
   "outputs": [],
   "source": []
  },
  {
   "cell_type": "code",
   "execution_count": null,
   "metadata": {},
   "outputs": [],
   "source": []
  },
  {
   "cell_type": "code",
   "execution_count": null,
   "metadata": {},
   "outputs": [],
   "source": []
  },
  {
   "cell_type": "code",
   "execution_count": null,
   "metadata": {},
   "outputs": [],
   "source": []
  },
  {
   "cell_type": "code",
   "execution_count": null,
   "metadata": {},
   "outputs": [],
   "source": []
  },
  {
   "cell_type": "code",
   "execution_count": null,
   "metadata": {},
   "outputs": [],
   "source": []
  },
  {
   "cell_type": "code",
   "execution_count": null,
   "metadata": {},
   "outputs": [],
   "source": []
  },
  {
   "cell_type": "code",
   "execution_count": null,
   "metadata": {},
   "outputs": [],
   "source": []
  },
  {
   "cell_type": "code",
   "execution_count": null,
   "metadata": {},
   "outputs": [],
   "source": []
  },
  {
   "cell_type": "code",
   "execution_count": null,
   "metadata": {},
   "outputs": [],
   "source": []
  },
  {
   "cell_type": "code",
   "execution_count": null,
   "metadata": {},
   "outputs": [],
   "source": []
  },
  {
   "cell_type": "code",
   "execution_count": null,
   "metadata": {},
   "outputs": [],
   "source": []
  },
  {
   "cell_type": "code",
   "execution_count": null,
   "metadata": {},
   "outputs": [],
   "source": []
  },
  {
   "cell_type": "code",
   "execution_count": null,
   "metadata": {},
   "outputs": [],
   "source": []
  }
 ],
 "metadata": {
  "kernelspec": {
   "display_name": "Python 3",
   "language": "python",
   "name": "python3"
  },
  "language_info": {
   "codemirror_mode": {
    "name": "ipython",
    "version": 3
   },
   "file_extension": ".py",
   "mimetype": "text/x-python",
   "name": "python",
   "nbconvert_exporter": "python",
   "pygments_lexer": "ipython3",
   "version": "3.8.2"
  }
 },
 "nbformat": 4,
 "nbformat_minor": 4
}
