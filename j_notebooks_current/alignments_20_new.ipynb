{
 "cells": [
  {
   "cell_type": "code",
   "execution_count": 30,
   "metadata": {},
   "outputs": [],
   "source": [
    "# local imports\n",
    "import sys"
   ]
  },
  {
   "cell_type": "code",
   "execution_count": 31,
   "metadata": {},
   "outputs": [],
   "source": [
    "sys.path.append(\"../\")"
   ]
  },
  {
   "cell_type": "code",
   "execution_count": 32,
   "metadata": {},
   "outputs": [],
   "source": [
    "from lcp_python_libs.Parser import Parser\n",
    "from lcp_python_libs.LDistance import LDistance"
   ]
  },
  {
   "cell_type": "code",
   "execution_count": 33,
   "metadata": {},
   "outputs": [],
   "source": [
    "# Global variables for using ldistance and parsing methods\n",
    "_ld = LDistance()\n",
    "_p = Parser()"
   ]
  },
  {
   "cell_type": "code",
   "execution_count": 34,
   "metadata": {},
   "outputs": [],
   "source": [
    "# Methodology:\n",
    "# Repeats fine\n",
    "# English parent doc, populate all children docs from using GT\n",
    "# Build from prior alignments, ie 50 has the 20 from 20, 100 has the 50 from 50"
   ]
  },
  {
   "cell_type": "code",
   "execution_count": 35,
   "metadata": {},
   "outputs": [],
   "source": [
    "en_str_master = \"\"\"\n",
    "Reaffirming that the enhancement of international cooperation in the field of human rights is essential for the full achievement of the purposes of the United Nations and that human rights and fundamental freedoms are the birthright of all human beings , the protection and promotion of such rights and freedoms being the first responsibility of Governments , \n",
    "Reaffirming also that all human rights are universal , indivisible , interdependent and interrelated and that the international community must treat human rights globally in a fair and equal manner , on the same footing and with the same emphasis ,\n",
    "Reaffirming further the various articles of the Charter setting out the respective powers and functions of the General Assembly , the Security Council and the Economic and Social Council , as the paramount framework for the achievement of the purposes of the United Nations ,\n",
    "Reaffirming the commitment of all States to fulfil their obligations under other important instruments of international law , in particular those of international human rights and humanitarian law ,\n",
    "Taking into account that , in accordance with Article 103 of the Charter , in the event of a conflict between the obligations of the Members of the United Nations under the Charter and their obligations under any other international agreement , their obligations under the Charter shall prevail ,\n",
    "Affirms the solemn commitment of all States to enhance international cooperation in the field of human rights and in the solution to international problems of a humanitarian character in full compliance with the Charter of the United Nations , inter alia , by the strict observance of all the purposes and principles set forth in Articles 1 and 2 thereof ;\n",
    "Stresses the vital role of the work of United Nations and regional arrangements , acting consistently with the purposes and principles enshrined in the Charter , in promoting and encouraging respect for human rights and fundamental freedoms , as well as in solving international problems of a humanitarian character , and affirms that all States in these activities must fully comply with the principles set forth in Article 2 of the Charter , in particular respecting the sovereign equality of all States and refraining from the threat or use of force against the territorial integrity or political independence of any State , or acting in any other manner inconsistent with the purposes of the United Nations ;\n",
    "\"\"\""
   ]
  },
  {
   "cell_type": "code",
   "execution_count": 36,
   "metadata": {},
   "outputs": [],
   "source": [
    "es_str = \"\"\"\n",
    "Reafirmando que el fortalecimiento de la cooperación internacional en la esfera de los derechos humanos es fundamental para el pleno logro de los propósitos de las Naciones Unidas y que los derechos humanos y las libertades fundamentales son un derecho innato de todos los seres humanos, la protección y promoción de esos derechos y libertades siendo la primera responsabilidad de los gobiernos,\n",
    "Reafirmando también que todos los derechos humanos son universales, indivisibles, interdependientes e interrelacionados y que la comunidad internacional debe tratar los derechos humanos en todo el mundo de manera justa y equitativa, en pie de igualdad y con el mismo énfasis,\n",
    "Reafirmando además los diversos artículos de la Carta que establecen los poderes y funciones respectivos de la Asamblea General, el Consejo de Seguridad y el Consejo Económico y Social, como marco fundamental para el logro de los propósitos de las Naciones Unidas,\n",
    "Reafirmando el compromiso de todos los Estados de cumplir sus obligaciones en virtud de otros importantes instrumentos de derecho internacional, en particular los del derecho internacional humanitario y de derechos humanos,\n",
    "Teniendo en cuenta que, de conformidad con el Artículo 103 de la Carta, en caso de conflicto entre las obligaciones de los Miembros de las Naciones Unidas en virtud de la Carta y sus obligaciones en virtud de cualquier otro acuerdo internacional, prevalecerán sus obligaciones en virtud de la Carta,\n",
    "Afirma el compromiso solemne de todos los Estados de fortalecer la cooperación internacional en la esfera de los derechos humanos y en la solución de los problemas internacionales de carácter humanitario en pleno cumplimiento de la Carta de las Naciones Unidas, entre otras cosas, mediante el estricto cumplimiento de todos los propósitos y principios establecidos en los artículos 1 y 2 del mismo;\n",
    "Destaca el papel fundamental de la labor de las Naciones Unidas y los acuerdos regionales, actuando de manera coherente con los propósitos y principios consagrados en la Carta, en la promoción y el fomento del respeto de los derechos humanos y las libertades fundamentales, así como en la solución de problemas internacionales de carácter humanitario, y afirma que todos los Estados en estas actividades deben cumplir plenamente con los principios establecidos en el Artículo 2 de la Carta, en particular respetando la igualdad soberana de todos los Estados y absteniéndose de la amenaza o el uso de la fuerza contra la integridad territorial o la independencia política de cualquier país. Estado, o actuando de cualquier otra manera que no sea compatible con los propósitos de las Naciones Unidas;\n",
    "\"\"\""
   ]
  },
  {
   "cell_type": "code",
   "execution_count": 37,
   "metadata": {},
   "outputs": [],
   "source": [
    "fr_str = \"\"\"\n",
    "Réaffirmant que le renforcement de la coopération internationale dans le domaine des droits de l' homme est essentiel pour la pleine réalisation des objectifs des Nations Unies et que les droits de l' homme et les libertés fondamentales sont le droit inné de tous les êtres humains , la protection et la promotion de ces droits et libertés étant la première responsabilité des gouvernements,\n",
    "Réaffirmant également que tous les droits de l' homme sont universels , indivisibles , interdépendants et intimement liés et que la communauté internationale doit traiter les droits de l' homme dans le monde entier de manière juste et égale , sur le même pied et avec la même insistance ,\n",
    "Réaffirmant en outre les divers articles de la Charte énonçant les pouvoirs et fonctions respectifs de l' Assemblée générale , du Conseil de sécurité et du Conseil économique et social , en tant que cadre primordial pour la réalisation des buts des Nations Unies ,\n",
    "Réaffirmant l' engagement de tous les États à s'acquitter de leurs obligations en vertu d' autres instruments importants du droit international , en particulier ceux du droit international des droits de l' homme et du droit international humanitaire ,\n",
    "Tenant compte du fait que , conformément à l' Article 103 de la Charte , en cas de conflit entre les obligations des Membres des Nations Unies en vertu de la Charte et leurs obligations en vertu de tout autre accord international , leurs obligations en vertu de la Charte prévaudront ,\n",
    "Affirme l' engagement solennel de tous les États à renforcer la coopération internationale dans le domaine des droits de l' homme et dans la solution des problèmes internationaux de caractère humanitaire dans le plein respect de la Charte des Nations Unies , notamment par le strict respect de tous les objectifs et les principes énoncés aux articles 1 et 2 de celui-ci ;\n",
    "Souligne le rôle vital des travaux des Nations Unies et des arrangements régionaux , agissant conformément aux buts et principes consacrés dans la Charte , pour promouvoir et encourager le respect des droits de l' homme et des libertés fondamentales , ainsi que pour résoudre les problèmes internationaux de caractère humanitaire , et affirme que tous les États participant à ces activités doivent se conformer pleinement aux principes énoncés à l' Article 2 de la Charte , en particulier en respectant l' égalité souveraine de tous les États et en s'abstenant de recourir à la menace ou à l' emploi de la force contre l' intégrité territoriale ou l' indépendance politique de tout État État , ou agissant de toute autre manière incompatible avec les buts des Nations Unies ;\n",
    "\n",
    "\"\"\""
   ]
  },
  {
   "cell_type": "code",
   "execution_count": 38,
   "metadata": {},
   "outputs": [],
   "source": [
    "de_str = \"\"\"\n",
    "Bekräftigend, dass die Verbesserung der internationalen Zusammenarbeit im Bereich der Menschenrechte für die volle Verwirklichung der Ziele der Vereinten Nationen von wesentlicher Bedeutung ist und dass die Menschenrechte und Grundfreiheiten das Geburtsrecht aller Menschen sind, den Schutz und die Förderung dieser Rechte und Freiheiten die erste Verantwortung der Regierungen ,\n",
    "ferner bekräftigend , dass alle Menschenrechte universell , unteilbar , voneinander abhängig und miteinander verbunden sind und dass die internationale Gemeinschaft die Menschenrechte weltweit fair und gleich behandeln muss , auf gleicher Grundlage und mit gleichem Nachdruck ,\n",
    "in weiterer Bekräftigung der verschiedenen Artikel der Charta , in denen die jeweiligen Befugnisse und Funktionen der Generalversammlung , des Sicherheitsrats und des Wirtschafts - und Sozialrats als überragenden Rahmen für die Verwirklichung der Ziele der Vereinten Nationen festgelegt sind ,\n",
    "in Bekräftigung der Verpflichtung aller Staaten , ihren Verpflichtungen aus anderen wichtigen Instrumenten des Völkerrechts nachzukommen , insbesondere denen der internationalen Menschenrechte und des humanitären Völkerrechts ,\n",
    "in Anbetracht dessen , dass gemäß Artikel 103 der Charta im Falle eines Konflikts zwischen den Verpflichtungen der Mitglieder der Vereinten Nationen aus der Charta und ihren Verpflichtungen aus einem anderen internationalen Abkommen ihre Verpflichtungen aus der Charta Vorrang haben ,\n",
    "bekräftigt die feierliche Verpflichtung aller Staaten , die internationale Zusammenarbeit im Bereich der Menschenrechte und bei der Lösung internationaler Probleme humanitären Charakters in voller Übereinstimmung mit der Charta der Vereinten Nationen zu verstärken , unter anderem durch die strikte Einhaltung aller Ziele und in den Artikeln 1 und 2 festgelegte Grundsätze;\n",
    "betont die entscheidende Rolle der Arbeit der Vereinten Nationen und regionaler Vereinbarungen , die im Einklang mit den in der Charta verankerten Zielen und Grundsätzen handeln , bei der Förderung und Ermutigung der Achtung der Menschenrechte und Grundfreiheiten sowie bei der Lösung internationaler Probleme humanitärer Art , und bekräftigt , dass alle Staaten bei diesen Tätigkeiten die in Artikel 2 der Charta niedergelegten Grundsätze uneingeschränkt einhalten müssen , insbesondere die souveräne Gleichheit aller Staaten achten und die Androhung oder Anwendung von Gewalt gegen die territoriale Unversehrtheit oder politische Unabhängigkeit jeglicher Staat oder in anderer Weise mit den Zielen der Vereinten Nationen unvereinbar handeln;\n",
    "\n",
    "\"\"\""
   ]
  },
  {
   "cell_type": "code",
   "execution_count": 39,
   "metadata": {},
   "outputs": [],
   "source": [
    "ru_str = \"\"\"\n",
    "Вновь подтверждая, что укрепление международного сотрудничества в области прав человека имеет важное значение для полного достижения целей Организации Объединенных Наций и что права человека и основные свободы являются неотъемлемым правом всех людей, защита и поощрение таких прав и свобод будучи первоочередной обязанностью правительств,\n",
    "Подтверждая также, что все права человека универсальны, неделимы, взаимозависимы и взаимосвязаны и что международное сообщество должно относиться к правам человека во всем мире справедливым и равным образом, на одной основе и с одинаковым вниманием,\n",
    "Вновь подтверждая далее различные статьи Устава, в которых излагаются соответствующие полномочия и функции Генеральной Ассамблеи, Совета Безопасности и Экономического и Социального Совета как важнейших рамок для достижения целей Организации Объединенных Наций,\n",
    "Подтверждая приверженность всех государств выполнению своих обязательств в соответствии с другими важными документами международного права, в частности международными документами в области прав человека и гуманитарного права,\n",
    "Принимая во внимание, что в соответствии со статьей 103 Устава в случае противоречия между обязательствами Членов Организации по Уставу и их обязательствами по любому другому международному соглашению их обязательства по Уставу имеют преимущественную силу,\n",
    "Подтверждает торжественное обязательство всех государств укреплять международное сотрудничество в области прав человека и в решении международных проблем гуманитарного характера в полном соответствии с Уставом Организации Объединенных Наций, в частности, путем строгого соблюдения всех целей. и принципы, изложенные в его статьях 1 и 2;\n",
    "Подчеркивает жизненно важную роль работы Организации Объединенных Наций и региональных механизмов, действующих в соответствии с целями и принципами, закрепленными в Уставе, в поощрении и поощрении уважения прав человека и основных свобод, а также в решении международных проблем гуманитарного характера, и подтверждает, что все государства в этой деятельности должны полностью соблюдать принципы, изложенные в статье 2 Устава, в частности уважать суверенное равенство всех государств и воздерживаться от угрозы силой или ее применения против территориальной целостности или политической независимости любого государства. Государство или иное действие, несовместимое с целями Организации Объединенных Наций;\n",
    "\n",
    "\"\"\""
   ]
  },
  {
   "cell_type": "code",
   "execution_count": 40,
   "metadata": {
    "scrolled": true
   },
   "outputs": [],
   "source": [
    "# Getting only the stems for each language, keep common words\n",
    "en_str_master_stems = _p.stem_list(en_str_master.split(),\"english\")\n",
    "es_str_stems = _p.stem_list(es_str.split(),\"spanish\")\n",
    "fr_str_stems = _p.stem_list(fr_str.split(),\"french\")\n",
    "de_str_stems = _p.stem_list(de_str.split(),\"german\")\n",
    "ru_str_stems = _p.stem_list(ru_str.split(),\"russian\")\n",
    "\n",
    "stemmed_strings = [\n",
    "    en_str_master_stems,\n",
    "    es_str_stems,\n",
    "    fr_str_stems,\n",
    "    de_str_stems,\n",
    "    ru_str_stems,\n",
    "]"
   ]
  },
  {
   "cell_type": "code",
   "execution_count": 41,
   "metadata": {},
   "outputs": [
    {
     "name": "stdout",
     "output_type": "stream",
     "text": [
      "Lengths of stem lists w/o removing common words\n",
      "EN_STEMS: 377\n",
      "ES_STEMS: 377\n",
      "FR_STEMS: 377\n",
      "DE_STEMS: 377\n",
      "RU_STEMS: 377\n"
     ]
    }
   ],
   "source": [
    "# Comparing lengths\n",
    "print(\"Lengths of stem lists w/o removing common words\")\n",
    "print(\"EN_STEMS: {}\".format(len(en_str_master_stems)))\n",
    "print(\"ES_STEMS: {}\".format(len(en_str_master_stems)))\n",
    "print(\"FR_STEMS: {}\".format(len(en_str_master_stems)))\n",
    "print(\"DE_STEMS: {}\".format(len(en_str_master_stems)))\n",
    "print(\"RU_STEMS: {}\".format(len(en_str_master_stems)))"
   ]
  },
  {
   "cell_type": "code",
   "execution_count": 42,
   "metadata": {},
   "outputs": [],
   "source": [
    "# Getting only the stems for each language, remove common words\n",
    "# nc = no common words\n",
    "\n",
    "en_str_master_stems_nc = _p.remove_common_words_from_string(en_str_master,\"english\")\n",
    "es_str_stems_nc = _p.remove_common_words_from_string(es_str,\"spanish\")\n",
    "fr_str_stems_nc = _p.remove_common_words_from_string(fr_str,\"french\")\n",
    "de_str_stems_nc = _p.remove_common_words_from_string(de_str,\"german\")\n",
    "ru_str_stems_nc = _p.remove_common_words_from_string(ru_str,\"russian\")\n",
    "\n",
    "en_str_master_stems_nc = _p.stem_list(en_str_master_stems_nc,\"english\")\n",
    "es_str_stems_nc = _p.stem_list(es_str_stems_nc,\"spanish\")\n",
    "fr_str_stems_nc = _p.stem_list(fr_str_stems_nc,\"french\")\n",
    "de_str_stems_nc = _p.stem_list(de_str_stems_nc,\"german\")\n",
    "ru_str_stems_nc = _p.stem_list(ru_str_stems_nc,\"russian\")\n",
    "\n",
    "\n",
    "stemmed_strings_nc = [\n",
    "    en_str_master_stems_nc,\n",
    "    es_str_stems_nc,\n",
    "    fr_str_stems_nc,\n",
    "    de_str_stems_nc,\n",
    "    ru_str_stems_nc,\n",
    "]"
   ]
  },
  {
   "cell_type": "code",
   "execution_count": 43,
   "metadata": {},
   "outputs": [
    {
     "name": "stdout",
     "output_type": "stream",
     "text": [
      "0:\n",
      "['be', 'protect', 'promot', 'right', 'freedom', 'first', 'respons', 'govern', 'reaffirm', 'also', 'human', 'right', 'univers', 'indivis', 'interdepend', 'interrel', 'intern', 'communiti', 'must', 'treat', 'human', 'right', 'global', 'fair', 'equal', 'manner', 'foot', 'emphasi', 'reaffirm', 'various', 'articl']\n",
      "1:\n",
      "['ser', 'humanos,', 'proteccion', 'promocion', 'derech', 'libertad', 'siend', 'primer', 'respons', 'gobiernos,', 'reafirm', 'derech', 'human', 'universales,', 'indivisibles,', 'interdependient', 'interrelacion', 'comun', 'internacional', 'deb', 'trat', 'derech', 'human', 'mund', 'maner', 'just', 'equitativa,', 'pie', 'iguald', 'mism', 'enfasis,']\n",
      "2:\n",
      "['tous', 'être', 'humain', 'protect', 'promot', 'droit', 'libert', 'premi', 'respons', 'gouvernements,', 'réaffirm', 'égal', 'tous', 'droit', 'homm', 'universel', 'indivisibl', 'interdépend', 'intim', 'li', 'communaut', 'international', 'doit', 'trait', 'droit', 'homm', 'mond', 'enti', 'mani', 'just', 'égal']\n",
      "3:\n",
      "['forder', 'recht', 'freiheit', 'erst', 'verantwort', 'regier', 'fern', 'bekraft', 'menschenrecht', 'universell', 'unteilbar', 'voneinand', 'abhang', 'miteinand', 'verbund', 'international', 'gemeinschaft', 'menschenrecht', 'weltweit', 'fair', 'gleich', 'behandeln', 'gleich', 'grundlag', 'gleich', 'nachdruck', 'weit', 'bekraft', 'verschied', 'artikel', 'charta']\n",
      "4:\n",
      "['основн', 'свобод', 'явля', 'неотъемлем', 'прав', 'людей,', 'защит', 'поощрен', 'так', 'прав', 'свобод', 'будуч', 'первоочередн', 'обязан', 'правительств,', 'подтвержд', 'также,', 'прав', 'человек', 'универсальны,', 'неделимы,', 'взаимозависим', 'взаимосвяза', 'международн', 'сообществ', 'должн', 'относ', 'прав', 'человек', 'всем', 'мир']\n"
     ]
    }
   ],
   "source": [
    "for num, stemmedlist in enumerate(stemmed_strings_nc):\n",
    "    print(\"{}:\\n{}\".format(num,stemmedlist[19:50]))"
   ]
  },
  {
   "cell_type": "code",
   "execution_count": 44,
   "metadata": {},
   "outputs": [
    {
     "name": "stdout",
     "output_type": "stream",
     "text": [
      "Lengths of stem lists WITH removing common words\n",
      "EN_STEMS: 196\n",
      "ES_STEMS: 196\n",
      "FR_STEMS: 196\n",
      "DE_STEMS: 196\n",
      "RU_STEMS: 196\n"
     ]
    }
   ],
   "source": [
    "# Comparing lengths NO COMMON WORDS\n",
    "print(\"Lengths of stem lists WITH removing common words\")\n",
    "print(\"EN_STEMS: {}\".format(len(en_str_master_stems_nc)))\n",
    "print(\"ES_STEMS: {}\".format(len(en_str_master_stems_nc)))\n",
    "print(\"FR_STEMS: {}\".format(len(en_str_master_stems_nc)))\n",
    "print(\"DE_STEMS: {}\".format(len(en_str_master_stems_nc)))\n",
    "print(\"RU_STEMS: {}\".format(len(en_str_master_stems_nc)))"
   ]
  },
  {
   "cell_type": "code",
   "execution_count": 45,
   "metadata": {
    "scrolled": true
   },
   "outputs": [
    {
     "name": "stdout",
     "output_type": "stream",
     "text": [
      "Printing 20 words from each stems\n",
      "1.\n",
      "['reaffirm', 'that', 'the', 'enhanc', 'of', 'intern', 'cooper', 'in', 'the', 'field', 'of', 'human', 'right', 'is', 'essenti', 'for', 'the', 'full', 'achiev', 'of']\n",
      "2.\n",
      "['reafirm', 'que', 'el', 'fortalec', 'de', 'la', 'cooper', 'internacional', 'en', 'la', 'esfer', 'de', 'los', 'derech', 'human', 'es', 'fundamental', 'par', 'el', 'plen']\n",
      "3.\n",
      "['réaffirm', 'que', 'le', 'renforc', 'de', 'la', 'cooper', 'international', 'dan', 'le', 'domain', 'de', 'droit', 'de', \"l'\", 'homm', 'est', 'essentiel', 'pour', 'la']\n",
      "4.\n",
      "['bekraftigend,', 'dass', 'die', 'verbesser', 'der', 'international', 'zusammenarbeit', 'im', 'bereich', 'der', 'menschenrecht', 'fur', 'die', 'voll', 'verwirklich', 'der', 'ziel', 'der', 'vereint', 'nation']\n",
      "5.\n",
      "['внов', 'подтверждая,', 'что', 'укреплен', 'международн', 'сотрудничеств', 'в', 'област', 'прав', 'человек', 'имеет', 'важн', 'значен', 'для', 'полн', 'достижен', 'цел', 'организац', 'объединен', 'нац']\n"
     ]
    }
   ],
   "source": [
    "# 20 word content printing\n",
    "print(\"Printing 20 words from each stems\")\n",
    "for num,stemmed_string in enumerate(stemmed_strings):\n",
    "    print(\"{}.\\n{}\".format(num+1,stemmed_string[:20]))"
   ]
  },
  {
   "cell_type": "code",
   "execution_count": 51,
   "metadata": {},
   "outputs": [],
   "source": [
    "fr_cleaned = _p.clean_sample(\"l' engagement\",\"french\")"
   ]
  },
  {
   "cell_type": "code",
   "execution_count": 52,
   "metadata": {},
   "outputs": [
    {
     "name": "stdout",
     "output_type": "stream",
     "text": [
      "['ngg']\n"
     ]
    }
   ],
   "source": [
    "print(fr_cleaned)"
   ]
  },
  {
   "cell_type": "code",
   "execution_count": 46,
   "metadata": {},
   "outputs": [],
   "source": [
    "engSample = \"Reaffirming that the enhancement of international cooperation in the field of human rights is essential for the full achievement of the purposes of the United Nations and that human rights and fundamental freedoms are the birthright of all human beings\""
   ]
  },
  {
   "cell_type": "code",
   "execution_count": 47,
   "metadata": {},
   "outputs": [],
   "source": [
    "gerSample = \"Bekräftigend, dass die Verbesserung der internationalen Zusammenarbeit im Bereich der Menschenrechte für die volle Verwirklichung der Ziele der Vereinten Nationen von wesentlicher Bedeutung ist und dass die Menschenrechte und Grundfreiheiten das Geburtsrecht aller Menschen sind, den Schutz und die Förderung dieser Rechte und Freiheiten\""
   ]
  },
  {
   "cell_type": "code",
   "execution_count": 48,
   "metadata": {},
   "outputs": [
    {
     "name": "stdout",
     "output_type": "stream",
     "text": [
      "rffrm-bkrft\n",
      "nhnc-vrbssr\n",
      "ntrn-ntrntnl\n",
      "cpr-zsmmnrbt\n",
      "fld-brch\n",
      "hmnrght-vrbssr\n",
      "hmnssnt-vrbssr\n",
      "hmnfll-vrbssr\n",
      "hmn-vrbssr\n",
      "\n",
      "\n",
      "L-distance measures\n",
      "[0.0, 0.0, 0.5714285714285714, 0.125, 0.0, 0.0, 0.2857142857142857, 0.0, 0.0]\n",
      "\n",
      "\n",
      "Average\n",
      "0.10912698412698413\n"
     ]
    }
   ],
   "source": [
    "ld = LDistance()\n",
    "_p = Parser()\n",
    "\n",
    "engSample = \"Reaffirming that the enhancement of international cooperation in the field of human rights is essential for the full achievement of the purposes of the United Nations and that human rights and fundamental freedoms are the birthright of all human beings\"\n",
    "gerSample = \"Bekräftigend, dass die Verbesserung der internationalen Zusammenarbeit im Bereich der Menschenrechte für die volle Verwirklichung der Ziele der Vereinten Nationen von wesentlicher Bedeutung ist und dass die Menschenrechte und Grundfreiheiten das Geburtsrecht aller Menschen sind, den Schutz und die Förderung dieser Rechte und Freiheiten\"\n",
    "\n",
    "engWords = _p.clean_sample(engSample, \"english\")\n",
    "\n",
    "gerWords = _p.clean_sample(gerSample, \"german\")\n",
    "\n",
    " \n",
    "\n",
    "eng_ger_dict = {\n",
    "    (0,):(0,),\n",
    "    (1,):(1,),\n",
    "    (2,):(2,),\n",
    "    (3,):(3,),\n",
    "    (4,):(4,),\n",
    "    (5,6):(1,),\n",
    "    (5,7):(1,),\n",
    "    (5,8):(1,),\n",
    "    (5,):(1,),\n",
    "}\n",
    "measures = _ld.measure_samples_many_many(engWords, gerWords, eng_ger_dict)\n",
    "\n",
    " \n",
    "\n",
    "print(\"\\n\")\n",
    "print(\"L-distance measures\")\n",
    "print(measures)\n",
    "print(\"\\n\")\n",
    "print(\"Average\")\n",
    "avg = 0\n",
    "for i in range(len(measures)):\n",
    "    avg = avg + measures[i]\n",
    "print(avg/len(measures))"
   ]
  },
  {
   "cell_type": "code",
   "execution_count": null,
   "metadata": {},
   "outputs": [],
   "source": []
  },
  {
   "cell_type": "code",
   "execution_count": null,
   "metadata": {},
   "outputs": [],
   "source": []
  },
  {
   "cell_type": "code",
   "execution_count": null,
   "metadata": {},
   "outputs": [],
   "source": []
  },
  {
   "cell_type": "code",
   "execution_count": null,
   "metadata": {},
   "outputs": [],
   "source": []
  },
  {
   "cell_type": "code",
   "execution_count": null,
   "metadata": {},
   "outputs": [],
   "source": []
  },
  {
   "cell_type": "code",
   "execution_count": null,
   "metadata": {},
   "outputs": [],
   "source": []
  },
  {
   "cell_type": "code",
   "execution_count": null,
   "metadata": {},
   "outputs": [],
   "source": []
  },
  {
   "cell_type": "code",
   "execution_count": null,
   "metadata": {},
   "outputs": [],
   "source": []
  },
  {
   "cell_type": "code",
   "execution_count": null,
   "metadata": {},
   "outputs": [],
   "source": []
  },
  {
   "cell_type": "code",
   "execution_count": null,
   "metadata": {},
   "outputs": [],
   "source": []
  },
  {
   "cell_type": "code",
   "execution_count": null,
   "metadata": {},
   "outputs": [],
   "source": []
  },
  {
   "cell_type": "code",
   "execution_count": null,
   "metadata": {},
   "outputs": [],
   "source": []
  }
 ],
 "metadata": {
  "kernelspec": {
   "display_name": "Python 3",
   "language": "python",
   "name": "python3"
  },
  "language_info": {
   "codemirror_mode": {
    "name": "ipython",
    "version": 3
   },
   "file_extension": ".py",
   "mimetype": "text/x-python",
   "name": "python",
   "nbconvert_exporter": "python",
   "pygments_lexer": "ipython3",
   "version": "3.8.2"
  }
 },
 "nbformat": 4,
 "nbformat_minor": 4
}
