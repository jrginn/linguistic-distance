{
 "cells": [
  {
   "cell_type": "code",
   "execution_count": 1,
   "metadata": {},
   "outputs": [],
   "source": [
    "import os\n",
    "\n",
    "from lcp_python_libs.BagOfConsonants import BagOfConsonants\n",
    "from lcp_python_libs.Util import Util"
   ]
  },
  {
   "cell_type": "code",
   "execution_count": 2,
   "metadata": {},
   "outputs": [
    {
     "name": "stdout",
     "output_type": "stream",
     "text": [
      "EN_AR\n",
      "--->UN.ar-en.ar--->txt lang: ar\n",
      "--->UN.ar-en.en--->txt lang: en\n",
      "EN_DE\n",
      "--->EUconst.de-en.de--->txt lang: de\n",
      "--->EUconst.de-en.en--->txt lang: en\n",
      "EN_ES\n",
      "--->UN.en-es.en--->txt lang: en\n",
      "--->UN.en-es.es--->txt lang: es\n",
      "EN_FR\n",
      "--->UN.en-fr.en--->txt lang: en\n",
      "--->UN.en-fr.fr--->txt lang: fr\n",
      "EN_RU\n",
      "--->UN.en-ru.en--->txt lang: en\n",
      "--->UN.en-ru.ru--->txt lang: ru\n"
     ]
    }
   ],
   "source": [
    "# The folders we are looping through\n",
    "for folder in os.listdir(\"./texts\"):\n",
    "    print(folder)\n",
    "    for f in os.listdir(os.path.join(\"./texts\",folder)):\n",
    "        print(\"--->{}--->txt lang: {}\".format(f,f.split(\".\")[-1]))"
   ]
  },
  {
   "cell_type": "code",
   "execution_count": 3,
   "metadata": {},
   "outputs": [],
   "source": [
    "_boc = BagOfConsonants()\n",
    "_util = Util()"
   ]
  },
  {
   "cell_type": "code",
   "execution_count": 4,
   "metadata": {},
   "outputs": [
    {
     "name": "stdout",
     "output_type": "stream",
     "text": [
      "String 1 Dictionary:\n",
      "{'b': 376709, 'c': 4780, 'd': 501497, 'f': 295379, 'g': 66006, 'h': 399373, 'j': 211597, 'k': 187810, 'l': 1708568, 'm': 937334, 'n': 661665, 'p': 515442, 'q': 303857, 'r': 594618, 's': 401137, 't': 797870, 'v': 51611, 'w': 739569, 'x': 84291, 'y': 1110521, 'z': 126417}\n",
      "String 2 Dictionary:\n",
      "{'b': 206831, 'c': 624569, 'd': 574125, 'f': 412711, 'g': 343439, 'h': 572386, 'j': 22237, 'k': 50089, 'l': 643848, 'm': 463837, 'n': 1525735, 'p': 386056, 'q': 20015, 'r': 1075765, 's': 987065, 't': 1614430, 'v': 177860, 'w': 115932, 'x': 32788, 'y': 170228, 'z': 39542}\n",
      "Difference Dictionary:\n",
      "{'b': 169878, 'c': 619789, 'd': 72628, 'f': 117332, 'g': 277433, 'h': 173013, 'j': 189360, 'k': 137721, 'l': 1064720, 'm': 473497, 'n': 864070, 'p': 129386, 'q': 283842, 'r': 481147, 's': 585928, 't': 816560, 'v': 126249, 'w': 623637, 'x': 51503, 'y': 940293, 'z': 86875}\n",
      "Total Differences:\n",
      "8284861\n",
      "Total Consonants:\n",
      "20135539\n",
      "0.5885453575392245\n"
     ]
    }
   ],
   "source": [
    "# EN - AR\n",
    "ar_txt = open(\"./texts/EN_AR/UN.ar-en.ar\",'r',encoding=\"utf8\")\n",
    "arStr = ar_txt.read()\n",
    "arStr = _util.transliterate_ar(arStr)\n",
    "ar_txt.close()\n",
    "\n",
    "en_txt = open(\"./texts/EN_AR/UN.ar-en.en\",\"r\",encoding=\"utf8\")\n",
    "enStr = en_txt.read()\n",
    "en_txt.close()\n",
    "\n",
    "en_ar_score = _boc.get_normalized_diff(arStr,enStr,printProgress=True)\n",
    "print(en_ar_score)"
   ]
  },
  {
   "cell_type": "code",
   "execution_count": 5,
   "metadata": {},
   "outputs": [
    {
     "name": "stdout",
     "output_type": "stream",
     "text": [
      "String 1 Dictionary:\n",
      "{'b': 15159, 'c': 18958, 'd': 43422, 'f': 13640, 'g': 28199, 'h': 28759, 'j': 978, 'k': 11490, 'l': 26718, 'm': 19060, 'n': 82230, 'p': 6929, 'q': 158, 'r': 61506, 's': 52977, 't': 51261, 'v': 7487, 'w': 7265, 'x': 450, 'y': 386, 'z': 10427}\n",
      "String 2 Dictionary:\n",
      "{'b': 9962, 'c': 28618, 'd': 20868, 'f': 17011, 'g': 10249, 'h': 29960, 'j': 1502, 'k': 2601, 'l': 26956, 'm': 17588, 'n': 53556, 'p': 17297, 'q': 720, 'r': 44076, 's': 39536, 't': 67330, 'v': 5449, 'w': 5510, 'x': 1633, 'y': 7647, 'z': 290}\n",
      "Difference Dictionary:\n",
      "{'b': 5197, 'c': 9660, 'd': 22554, 'f': 3371, 'g': 17950, 'h': 1201, 'j': 524, 'k': 8889, 'l': 238, 'm': 1472, 'n': 28674, 'p': 10368, 'q': 562, 'r': 17430, 's': 13441, 't': 16069, 'v': 2038, 'w': 1755, 'x': 1183, 'y': 7261, 'z': 10137}\n",
      "Total Differences:\n",
      "179974\n",
      "Total Consonants:\n",
      "895818\n",
      "0.7990953519576521\n"
     ]
    }
   ],
   "source": [
    "# EN - DE\n",
    "de_txt = open(\"./texts/EN_DE/EUconst.de-en.de\",'r',encoding=\"utf8\")\n",
    "deStr = de_txt.read()\n",
    "ar_txt.close()\n",
    "\n",
    "en_txt = open(\"./texts/EN_DE/EUconst.de-en.en\",\"r\",encoding=\"utf8\")\n",
    "enStr = en_txt.read()\n",
    "en_txt.close()\n",
    "\n",
    "en_de_score = _boc.get_normalized_diff(deStr,enStr,printProgress=True)\n",
    "print(en_de_score)"
   ]
  },
  {
   "cell_type": "code",
   "execution_count": 6,
   "metadata": {},
   "outputs": [
    {
     "name": "stdout",
     "output_type": "stream",
     "text": [
      "String 1 Dictionary:\n",
      "{'b': 248965, 'c': 979205, 'd': 1015372, 'f': 152606, 'g': 220563, 'h': 82941, 'j': 47256, 'k': 10503, 'l': 1069097, 'm': 462296, 'n': 1438867, 'p': 468702, 'q': 93992, 'r': 1211429, 's': 1386158, 't': 732494, 'v': 147609, 'w': 5915, 'x': 41439, 'y': 179088, 'z': 61017}\n",
      "String 2 Dictionary:\n",
      "{'b': 206831, 'c': 624569, 'd': 574125, 'f': 412711, 'g': 343439, 'h': 572386, 'j': 22237, 'k': 50089, 'l': 643848, 'm': 463837, 'n': 1525735, 'p': 386056, 'q': 20015, 'r': 1075765, 's': 987065, 't': 1614430, 'v': 177860, 'w': 115932, 'x': 32788, 'y': 170228, 'z': 39542}\n",
      "Difference Dictionary:\n",
      "{'b': 42134, 'c': 354636, 'd': 441247, 'f': 260105, 'g': 122876, 'h': 489445, 'j': 25019, 'k': 39586, 'l': 425249, 'm': 1541, 'n': 86868, 'p': 82646, 'q': 73977, 'r': 135664, 's': 399093, 't': 881936, 'v': 30251, 'w': 110017, 'x': 8651, 'y': 8860, 'z': 21475}\n",
      "Total Differences:\n",
      "4041276\n",
      "Total Consonants:\n",
      "20115002\n",
      "0.7990914442862098\n"
     ]
    }
   ],
   "source": [
    "# EN - ES\n",
    "es_txt = open(\"./texts/EN_ES/UN.en-es.es\",'r',encoding=\"utf8\")\n",
    "esStr = es_txt.read()\n",
    "es_txt.close()\n",
    "\n",
    "en_txt = open(\"./texts/EN_ES/UN.en-es.en\",\"r\",encoding=\"utf8\")\n",
    "enStr = en_txt.read()\n",
    "en_txt.close()\n",
    "\n",
    "en_es_score = _boc.get_normalized_diff(esStr,enStr,printProgress=True)\n",
    "print(en_es_score)"
   ]
  },
  {
   "cell_type": "code",
   "execution_count": 7,
   "metadata": {},
   "outputs": [
    {
     "name": "stdout",
     "output_type": "stream",
     "text": [
      "String 1 Dictionary:\n",
      "{'b': 161131, 'c': 622286, 'd': 785765, 'f': 190400, 'g': 223185, 'h': 87735, 'j': 33257, 'k': 14601, 'l': 956434, 'm': 529878, 'n': 1469600, 'p': 536487, 'q': 155230, 'r': 1243305, 's': 1431498, 't': 1376894, 'v': 211235, 'w': 6245, 'x': 96095, 'y': 51550, 'z': 13670}\n",
      "String 2 Dictionary:\n",
      "{'b': 206831, 'c': 624569, 'd': 574125, 'f': 412711, 'g': 343439, 'h': 572386, 'j': 22237, 'k': 50089, 'l': 643848, 'm': 463837, 'n': 1525735, 'p': 386056, 'q': 20015, 'r': 1075765, 's': 987065, 't': 1614430, 'v': 177860, 'w': 115932, 'x': 32788, 'y': 170228, 'z': 39542}\n",
      "Difference Dictionary:\n",
      "{'b': 45700, 'c': 2283, 'd': 211640, 'f': 222311, 'g': 120254, 'h': 484651, 'j': 11020, 'k': 35488, 'l': 312586, 'm': 66041, 'n': 56135, 'p': 150431, 'q': 135215, 'r': 167540, 's': 444433, 't': 237536, 'v': 33375, 'w': 109687, 'x': 63307, 'y': 118678, 'z': 25872}\n",
      "Total Differences:\n",
      "3054183\n",
      "Total Consonants:\n",
      "20255969\n",
      "0.8492205927052909\n"
     ]
    }
   ],
   "source": [
    "# EN - FR\n",
    "fr_txt = open(\"./texts/EN_FR/UN.en-fr.fr\",'r',encoding=\"utf8\")\n",
    "frStr = fr_txt.read()\n",
    "fr_txt.close()\n",
    "\n",
    "en_txt = open(\"./texts/EN_FR/UN.en-fr.en\",\"r\",encoding=\"utf8\")\n",
    "enStr = en_txt.read()\n",
    "en_txt.close()\n",
    "\n",
    "en_fr_score = _boc.get_normalized_diff(frStr,enStr,printProgress=True)\n",
    "print(en_fr_score)"
   ]
  },
  {
   "cell_type": "code",
   "execution_count": 8,
   "metadata": {},
   "outputs": [
    {
     "name": "stdout",
     "output_type": "stream",
     "text": [
      "String 1 Dictionary:\n",
      "{'b': 276688, 'c': 301511, 'd': 590111, 'f': 66986, 'g': 353159, 'h': 829707, 'j': 267, 'k': 678862, 'l': 616847, 'm': 535358, 'n': 1350975, 'p': 505933, 'q': 68, 'r': 1036571, 's': 1406352, 't': 1222607, 'v': 830976, 'w': 874, 'x': 4011, 'y': 280133, 'z': 424454}\n",
      "String 2 Dictionary:\n",
      "{'b': 206831, 'c': 624569, 'd': 574125, 'f': 412711, 'g': 343439, 'h': 572386, 'j': 22237, 'k': 50089, 'l': 643848, 'm': 463837, 'n': 1525735, 'p': 386056, 'q': 20015, 'r': 1075765, 's': 987065, 't': 1614430, 'v': 177860, 'w': 115932, 'x': 32788, 'y': 170228, 'z': 39542}\n",
      "Difference Dictionary:\n",
      "{'b': 69857, 'c': 323058, 'd': 15986, 'f': 345725, 'g': 9720, 'h': 257321, 'j': 21970, 'k': 628773, 'l': 27001, 'm': 71521, 'n': 174760, 'p': 119877, 'q': 19947, 'r': 39194, 's': 419287, 't': 391823, 'v': 653116, 'w': 115058, 'x': 28777, 'y': 109905, 'z': 384912}\n",
      "Total Differences:\n",
      "4227588\n",
      "Total Consonants:\n",
      "21371938\n",
      "0.8021897686583219\n"
     ]
    }
   ],
   "source": [
    "# EN - RU\n",
    "ru_txt = open(\"./texts/EN_RU/UN.en-ru.ru\",'r',encoding=\"utf8\")\n",
    "ruStr = ru_txt.read()\n",
    "ru_txt.close()\n",
    "\n",
    "en_txt = open(\"./texts/EN_RU/UN.en-ru.en\",\"r\",encoding=\"utf8\")\n",
    "enStr = en_txt.read()\n",
    "en_txt.close()\n",
    "\n",
    "en_ru_score = _boc.get_normalized_diff(ruStr,enStr,printProgress=True)\n",
    "print(en_ru_score)"
   ]
  },
  {
   "cell_type": "code",
   "execution_count": 9,
   "metadata": {},
   "outputs": [
    {
     "name": "stdout",
     "output_type": "stream",
     "text": [
      "          EN        AR        DE        FR       RU        ES\n",
      "EN  1.000000  0.588545  0.799095  0.849221  0.80219  0.799091\n",
      "AR  0.588545  1.000000       NaN       NaN      NaN       NaN\n",
      "DE  0.799095       NaN  1.000000       NaN      NaN       NaN\n",
      "FR  0.849221       NaN       NaN  1.000000      NaN       NaN\n",
      "RU  0.802190       NaN       NaN       NaN  1.00000       NaN\n",
      "ES  0.799091       NaN       NaN       NaN      NaN  1.000000\n"
     ]
    }
   ],
   "source": [
    "pairing_list = [[\"EN\",\"AR\",en_ar_score],\n",
    "                [\"EN\",\"DE\",en_de_score],\n",
    "                [\"EN\",\"FR\",en_fr_score],\n",
    "                [\"EN\",\"RU\",en_ru_score],\n",
    "                [\"EN\",\"ES\",en_es_score]]\n",
    "print(_util.create_corr_df(pairing_list))"
   ]
  },
  {
   "cell_type": "code",
   "execution_count": null,
   "metadata": {},
   "outputs": [],
   "source": []
  },
  {
   "cell_type": "code",
   "execution_count": null,
   "metadata": {},
   "outputs": [],
   "source": []
  }
 ],
 "metadata": {
  "kernelspec": {
   "display_name": "Python 3",
   "language": "python",
   "name": "python3"
  },
  "language_info": {
   "codemirror_mode": {
    "name": "ipython",
    "version": 3
   },
   "file_extension": ".py",
   "mimetype": "text/x-python",
   "name": "python",
   "nbconvert_exporter": "python",
   "pygments_lexer": "ipython3",
   "version": "3.8.2"
  }
 },
 "nbformat": 4,
 "nbformat_minor": 4
}
